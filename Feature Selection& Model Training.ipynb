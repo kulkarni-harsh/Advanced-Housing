{
 "cells": [
  {
   "cell_type": "code",
   "execution_count": 124,
   "id": "92db10e1-2220-4cc2-b8bd-e0d5224055e2",
   "metadata": {},
   "outputs": [],
   "source": [
    "import pandas as pd \n",
    "import numpy as np\n",
    "from sklearn.model_selection import cross_val_score,cross_val_predict\n",
    "from sklearn.linear_model import LinearRegression\n",
    "from sklearn.svm import SVR"
   ]
  },
  {
   "cell_type": "code",
   "execution_count": 76,
   "id": "842cd74c-269a-4088-b7ce-102df1f5a425",
   "metadata": {},
   "outputs": [],
   "source": [
    "dataset_og=pd.read_csv('X_train_engg.csv')"
   ]
  },
  {
   "cell_type": "code",
   "execution_count": 89,
   "id": "b0dc0117-3ac1-4ba8-ae84-1db4bb1b1391",
   "metadata": {},
   "outputs": [],
   "source": [
    "dataset=dataset_og.copy()"
   ]
  },
  {
   "cell_type": "code",
   "execution_count": 90,
   "id": "ce3ac398-9940-4078-a5a7-81123da55d0a",
   "metadata": {},
   "outputs": [
    {
     "data": {
      "text/html": [
       "<div>\n",
       "<style scoped>\n",
       "    .dataframe tbody tr th:only-of-type {\n",
       "        vertical-align: middle;\n",
       "    }\n",
       "\n",
       "    .dataframe tbody tr th {\n",
       "        vertical-align: top;\n",
       "    }\n",
       "\n",
       "    .dataframe thead th {\n",
       "        text-align: right;\n",
       "    }\n",
       "</style>\n",
       "<table border=\"1\" class=\"dataframe\">\n",
       "  <thead>\n",
       "    <tr style=\"text-align: right;\">\n",
       "      <th></th>\n",
       "      <th>Id</th>\n",
       "      <th>SalePrice</th>\n",
       "      <th>MSSubClass</th>\n",
       "      <th>MSZoning</th>\n",
       "      <th>LotFrontage</th>\n",
       "      <th>LotArea</th>\n",
       "      <th>Street</th>\n",
       "      <th>Alley</th>\n",
       "      <th>LotShape</th>\n",
       "      <th>LandContour</th>\n",
       "      <th>...</th>\n",
       "      <th>Fence</th>\n",
       "      <th>MiscFeature</th>\n",
       "      <th>MiscVal</th>\n",
       "      <th>MoSold</th>\n",
       "      <th>YrSold</th>\n",
       "      <th>SaleType</th>\n",
       "      <th>SaleCondition</th>\n",
       "      <th>LotFrontageNan</th>\n",
       "      <th>MasVnrAreaNan</th>\n",
       "      <th>GarageYrBltNan</th>\n",
       "    </tr>\n",
       "  </thead>\n",
       "  <tbody>\n",
       "    <tr>\n",
       "      <th>0</th>\n",
       "      <td>1</td>\n",
       "      <td>208500</td>\n",
       "      <td>0.235294</td>\n",
       "      <td>0.5</td>\n",
       "      <td>0.418208</td>\n",
       "      <td>0.366344</td>\n",
       "      <td>0.0</td>\n",
       "      <td>0.5</td>\n",
       "      <td>1.0</td>\n",
       "      <td>1.0</td>\n",
       "      <td>...</td>\n",
       "      <td>0.50</td>\n",
       "      <td>0.0</td>\n",
       "      <td>0.00000</td>\n",
       "      <td>0.090909</td>\n",
       "      <td>0.50</td>\n",
       "      <td>1.0</td>\n",
       "      <td>0.5</td>\n",
       "      <td>0.0</td>\n",
       "      <td>0.0</td>\n",
       "      <td>0.0</td>\n",
       "    </tr>\n",
       "    <tr>\n",
       "      <th>1</th>\n",
       "      <td>2</td>\n",
       "      <td>181500</td>\n",
       "      <td>0.000000</td>\n",
       "      <td>0.5</td>\n",
       "      <td>0.495064</td>\n",
       "      <td>0.391317</td>\n",
       "      <td>0.0</td>\n",
       "      <td>0.5</td>\n",
       "      <td>1.0</td>\n",
       "      <td>1.0</td>\n",
       "      <td>...</td>\n",
       "      <td>0.50</td>\n",
       "      <td>0.0</td>\n",
       "      <td>0.00000</td>\n",
       "      <td>0.363636</td>\n",
       "      <td>0.25</td>\n",
       "      <td>1.0</td>\n",
       "      <td>0.5</td>\n",
       "      <td>0.0</td>\n",
       "      <td>0.0</td>\n",
       "      <td>0.0</td>\n",
       "    </tr>\n",
       "    <tr>\n",
       "      <th>2</th>\n",
       "      <td>3</td>\n",
       "      <td>223500</td>\n",
       "      <td>0.235294</td>\n",
       "      <td>0.5</td>\n",
       "      <td>0.434909</td>\n",
       "      <td>0.422359</td>\n",
       "      <td>0.0</td>\n",
       "      <td>0.5</td>\n",
       "      <td>0.0</td>\n",
       "      <td>1.0</td>\n",
       "      <td>...</td>\n",
       "      <td>0.50</td>\n",
       "      <td>0.0</td>\n",
       "      <td>0.00000</td>\n",
       "      <td>0.727273</td>\n",
       "      <td>0.50</td>\n",
       "      <td>1.0</td>\n",
       "      <td>0.5</td>\n",
       "      <td>0.0</td>\n",
       "      <td>0.0</td>\n",
       "      <td>0.0</td>\n",
       "    </tr>\n",
       "    <tr>\n",
       "      <th>3</th>\n",
       "      <td>4</td>\n",
       "      <td>140000</td>\n",
       "      <td>0.294118</td>\n",
       "      <td>0.5</td>\n",
       "      <td>0.388581</td>\n",
       "      <td>0.390295</td>\n",
       "      <td>0.0</td>\n",
       "      <td>0.5</td>\n",
       "      <td>0.0</td>\n",
       "      <td>1.0</td>\n",
       "      <td>...</td>\n",
       "      <td>0.50</td>\n",
       "      <td>0.0</td>\n",
       "      <td>0.00000</td>\n",
       "      <td>0.090909</td>\n",
       "      <td>0.00</td>\n",
       "      <td>1.0</td>\n",
       "      <td>0.0</td>\n",
       "      <td>0.0</td>\n",
       "      <td>0.0</td>\n",
       "      <td>0.0</td>\n",
       "    </tr>\n",
       "    <tr>\n",
       "      <th>4</th>\n",
       "      <td>5</td>\n",
       "      <td>250000</td>\n",
       "      <td>0.235294</td>\n",
       "      <td>0.5</td>\n",
       "      <td>0.513123</td>\n",
       "      <td>0.468761</td>\n",
       "      <td>0.0</td>\n",
       "      <td>0.5</td>\n",
       "      <td>0.0</td>\n",
       "      <td>1.0</td>\n",
       "      <td>...</td>\n",
       "      <td>0.50</td>\n",
       "      <td>0.0</td>\n",
       "      <td>0.00000</td>\n",
       "      <td>1.000000</td>\n",
       "      <td>0.50</td>\n",
       "      <td>1.0</td>\n",
       "      <td>0.5</td>\n",
       "      <td>0.0</td>\n",
       "      <td>0.0</td>\n",
       "      <td>0.0</td>\n",
       "    </tr>\n",
       "    <tr>\n",
       "      <th>...</th>\n",
       "      <td>...</td>\n",
       "      <td>...</td>\n",
       "      <td>...</td>\n",
       "      <td>...</td>\n",
       "      <td>...</td>\n",
       "      <td>...</td>\n",
       "      <td>...</td>\n",
       "      <td>...</td>\n",
       "      <td>...</td>\n",
       "      <td>...</td>\n",
       "      <td>...</td>\n",
       "      <td>...</td>\n",
       "      <td>...</td>\n",
       "      <td>...</td>\n",
       "      <td>...</td>\n",
       "      <td>...</td>\n",
       "      <td>...</td>\n",
       "      <td>...</td>\n",
       "      <td>...</td>\n",
       "      <td>...</td>\n",
       "      <td>...</td>\n",
       "    </tr>\n",
       "    <tr>\n",
       "      <th>1455</th>\n",
       "      <td>1456</td>\n",
       "      <td>175000</td>\n",
       "      <td>0.235294</td>\n",
       "      <td>0.5</td>\n",
       "      <td>0.400718</td>\n",
       "      <td>0.353592</td>\n",
       "      <td>0.0</td>\n",
       "      <td>0.5</td>\n",
       "      <td>1.0</td>\n",
       "      <td>1.0</td>\n",
       "      <td>...</td>\n",
       "      <td>0.50</td>\n",
       "      <td>0.0</td>\n",
       "      <td>0.00000</td>\n",
       "      <td>0.636364</td>\n",
       "      <td>0.25</td>\n",
       "      <td>1.0</td>\n",
       "      <td>0.5</td>\n",
       "      <td>0.0</td>\n",
       "      <td>0.0</td>\n",
       "      <td>0.0</td>\n",
       "    </tr>\n",
       "    <tr>\n",
       "      <th>1456</th>\n",
       "      <td>1457</td>\n",
       "      <td>210000</td>\n",
       "      <td>0.000000</td>\n",
       "      <td>0.5</td>\n",
       "      <td>0.517503</td>\n",
       "      <td>0.453273</td>\n",
       "      <td>0.0</td>\n",
       "      <td>0.5</td>\n",
       "      <td>1.0</td>\n",
       "      <td>1.0</td>\n",
       "      <td>...</td>\n",
       "      <td>0.75</td>\n",
       "      <td>0.0</td>\n",
       "      <td>0.00000</td>\n",
       "      <td>0.090909</td>\n",
       "      <td>1.00</td>\n",
       "      <td>1.0</td>\n",
       "      <td>0.5</td>\n",
       "      <td>0.0</td>\n",
       "      <td>0.0</td>\n",
       "      <td>0.0</td>\n",
       "    </tr>\n",
       "    <tr>\n",
       "      <th>1457</th>\n",
       "      <td>1458</td>\n",
       "      <td>266500</td>\n",
       "      <td>0.294118</td>\n",
       "      <td>0.5</td>\n",
       "      <td>0.423859</td>\n",
       "      <td>0.379597</td>\n",
       "      <td>0.0</td>\n",
       "      <td>0.5</td>\n",
       "      <td>1.0</td>\n",
       "      <td>1.0</td>\n",
       "      <td>...</td>\n",
       "      <td>0.00</td>\n",
       "      <td>1.0</td>\n",
       "      <td>0.16129</td>\n",
       "      <td>0.363636</td>\n",
       "      <td>1.00</td>\n",
       "      <td>1.0</td>\n",
       "      <td>0.5</td>\n",
       "      <td>0.0</td>\n",
       "      <td>0.0</td>\n",
       "      <td>0.0</td>\n",
       "    </tr>\n",
       "    <tr>\n",
       "      <th>1458</th>\n",
       "      <td>1459</td>\n",
       "      <td>142125</td>\n",
       "      <td>0.000000</td>\n",
       "      <td>0.5</td>\n",
       "      <td>0.434909</td>\n",
       "      <td>0.393688</td>\n",
       "      <td>0.0</td>\n",
       "      <td>0.5</td>\n",
       "      <td>1.0</td>\n",
       "      <td>1.0</td>\n",
       "      <td>...</td>\n",
       "      <td>0.50</td>\n",
       "      <td>0.0</td>\n",
       "      <td>0.00000</td>\n",
       "      <td>0.272727</td>\n",
       "      <td>1.00</td>\n",
       "      <td>1.0</td>\n",
       "      <td>0.5</td>\n",
       "      <td>0.0</td>\n",
       "      <td>0.0</td>\n",
       "      <td>0.0</td>\n",
       "    </tr>\n",
       "    <tr>\n",
       "      <th>1459</th>\n",
       "      <td>1460</td>\n",
       "      <td>147500</td>\n",
       "      <td>0.000000</td>\n",
       "      <td>0.5</td>\n",
       "      <td>0.471175</td>\n",
       "      <td>0.398069</td>\n",
       "      <td>0.0</td>\n",
       "      <td>0.5</td>\n",
       "      <td>1.0</td>\n",
       "      <td>1.0</td>\n",
       "      <td>...</td>\n",
       "      <td>0.50</td>\n",
       "      <td>0.0</td>\n",
       "      <td>0.00000</td>\n",
       "      <td>0.454545</td>\n",
       "      <td>0.50</td>\n",
       "      <td>1.0</td>\n",
       "      <td>0.5</td>\n",
       "      <td>0.0</td>\n",
       "      <td>0.0</td>\n",
       "      <td>0.0</td>\n",
       "    </tr>\n",
       "  </tbody>\n",
       "</table>\n",
       "<p>1460 rows × 84 columns</p>\n",
       "</div>"
      ],
      "text/plain": [
       "        Id  SalePrice  MSSubClass  MSZoning  LotFrontage   LotArea  Street  \\\n",
       "0        1     208500    0.235294       0.5     0.418208  0.366344     0.0   \n",
       "1        2     181500    0.000000       0.5     0.495064  0.391317     0.0   \n",
       "2        3     223500    0.235294       0.5     0.434909  0.422359     0.0   \n",
       "3        4     140000    0.294118       0.5     0.388581  0.390295     0.0   \n",
       "4        5     250000    0.235294       0.5     0.513123  0.468761     0.0   \n",
       "...    ...        ...         ...       ...          ...       ...     ...   \n",
       "1455  1456     175000    0.235294       0.5     0.400718  0.353592     0.0   \n",
       "1456  1457     210000    0.000000       0.5     0.517503  0.453273     0.0   \n",
       "1457  1458     266500    0.294118       0.5     0.423859  0.379597     0.0   \n",
       "1458  1459     142125    0.000000       0.5     0.434909  0.393688     0.0   \n",
       "1459  1460     147500    0.000000       0.5     0.471175  0.398069     0.0   \n",
       "\n",
       "      Alley  LotShape  LandContour  ...  Fence  MiscFeature  MiscVal  \\\n",
       "0       0.5       1.0          1.0  ...   0.50          0.0  0.00000   \n",
       "1       0.5       1.0          1.0  ...   0.50          0.0  0.00000   \n",
       "2       0.5       0.0          1.0  ...   0.50          0.0  0.00000   \n",
       "3       0.5       0.0          1.0  ...   0.50          0.0  0.00000   \n",
       "4       0.5       0.0          1.0  ...   0.50          0.0  0.00000   \n",
       "...     ...       ...          ...  ...    ...          ...      ...   \n",
       "1455    0.5       1.0          1.0  ...   0.50          0.0  0.00000   \n",
       "1456    0.5       1.0          1.0  ...   0.75          0.0  0.00000   \n",
       "1457    0.5       1.0          1.0  ...   0.00          1.0  0.16129   \n",
       "1458    0.5       1.0          1.0  ...   0.50          0.0  0.00000   \n",
       "1459    0.5       1.0          1.0  ...   0.50          0.0  0.00000   \n",
       "\n",
       "        MoSold  YrSold  SaleType  SaleCondition  LotFrontageNan  \\\n",
       "0     0.090909    0.50       1.0            0.5             0.0   \n",
       "1     0.363636    0.25       1.0            0.5             0.0   \n",
       "2     0.727273    0.50       1.0            0.5             0.0   \n",
       "3     0.090909    0.00       1.0            0.0             0.0   \n",
       "4     1.000000    0.50       1.0            0.5             0.0   \n",
       "...        ...     ...       ...            ...             ...   \n",
       "1455  0.636364    0.25       1.0            0.5             0.0   \n",
       "1456  0.090909    1.00       1.0            0.5             0.0   \n",
       "1457  0.363636    1.00       1.0            0.5             0.0   \n",
       "1458  0.272727    1.00       1.0            0.5             0.0   \n",
       "1459  0.454545    0.50       1.0            0.5             0.0   \n",
       "\n",
       "      MasVnrAreaNan  GarageYrBltNan  \n",
       "0               0.0             0.0  \n",
       "1               0.0             0.0  \n",
       "2               0.0             0.0  \n",
       "3               0.0             0.0  \n",
       "4               0.0             0.0  \n",
       "...             ...             ...  \n",
       "1455            0.0             0.0  \n",
       "1456            0.0             0.0  \n",
       "1457            0.0             0.0  \n",
       "1458            0.0             0.0  \n",
       "1459            0.0             0.0  \n",
       "\n",
       "[1460 rows x 84 columns]"
      ]
     },
     "execution_count": 90,
     "metadata": {},
     "output_type": "execute_result"
    }
   ],
   "source": [
    "dataset"
   ]
  },
  {
   "cell_type": "code",
   "execution_count": 100,
   "id": "c325657d-1ca4-4b43-8919-821b8172cc4d",
   "metadata": {},
   "outputs": [],
   "source": [
    "y=dataset['SalePrice']\n",
    "X=dataset.drop(['SalePrice','Id'],axis=1)"
   ]
  },
  {
   "cell_type": "code",
   "execution_count": 101,
   "id": "7a5c84ee-0a15-4427-ac11-f6ad83cf701c",
   "metadata": {},
   "outputs": [
    {
     "data": {
      "text/plain": [
       "Index(['MSSubClass', 'MSZoning', 'LotFrontage', 'LotArea', 'Street', 'Alley',\n",
       "       'LotShape', 'LandContour', 'Utilities', 'LotConfig', 'LandSlope',\n",
       "       'Neighborhood', 'Condition1', 'Condition2', 'BldgType', 'HouseStyle',\n",
       "       'OverallQual', 'OverallCond', 'YearBuilt', 'YearRemodAdd', 'RoofStyle',\n",
       "       'RoofMatl', 'Exterior1st', 'Exterior2nd', 'MasVnrType', 'MasVnrArea',\n",
       "       'ExterQual', 'ExterCond', 'Foundation', 'BsmtQual', 'BsmtCond',\n",
       "       'BsmtExposure', 'BsmtFinType1', 'BsmtFinSF1', 'BsmtFinType2',\n",
       "       'BsmtFinSF2', 'BsmtUnfSF', 'TotalBsmtSF', 'Heating', 'HeatingQC',\n",
       "       'CentralAir', 'Electrical', '1stFlrSF', '2ndFlrSF', 'LowQualFinSF',\n",
       "       'GrLivArea', 'BsmtFullBath', 'BsmtHalfBath', 'FullBath', 'HalfBath',\n",
       "       'BedroomAbvGr', 'KitchenAbvGr', 'KitchenQual', 'TotRmsAbvGrd',\n",
       "       'Functional', 'Fireplaces', 'FireplaceQu', 'GarageType', 'GarageYrBlt',\n",
       "       'GarageFinish', 'GarageCars', 'GarageArea', 'GarageQual', 'GarageCond',\n",
       "       'PavedDrive', 'WoodDeckSF', 'OpenPorchSF', 'EnclosedPorch', '3SsnPorch',\n",
       "       'ScreenPorch', 'PoolArea', 'PoolQC', 'Fence', 'MiscFeature', 'MiscVal',\n",
       "       'MoSold', 'YrSold', 'SaleType', 'SaleCondition', 'LotFrontageNan',\n",
       "       'MasVnrAreaNan', 'GarageYrBltNan'],\n",
       "      dtype='object')"
      ]
     },
     "execution_count": 101,
     "metadata": {},
     "output_type": "execute_result"
    }
   ],
   "source": [
    "selected_feature=X.columns\n",
    "selected_feature"
   ]
  },
  {
   "cell_type": "code",
   "execution_count": 102,
   "id": "d1463578-7b64-4263-b6ea-43bb42e9f11b",
   "metadata": {},
   "outputs": [],
   "source": [
    "linear_model=LinearRegression()"
   ]
  },
  {
   "cell_type": "code",
   "execution_count": 103,
   "id": "f497bc3f-5171-405a-a07e-1b6a4264ee4e",
   "metadata": {},
   "outputs": [
    {
     "data": {
      "text/plain": [
       "LinearRegression()"
      ]
     },
     "execution_count": 103,
     "metadata": {},
     "output_type": "execute_result"
    }
   ],
   "source": [
    "linear_model.fit(X,y)"
   ]
  },
  {
   "cell_type": "code",
   "execution_count": 104,
   "id": "d877110c-504f-43fa-8b39-f5b991c9be01",
   "metadata": {},
   "outputs": [
    {
     "data": {
      "text/plain": [
       "array([-3.49442114e+03, -1.24531934e+04, -1.43504001e+04,  6.56049493e+04,\n",
       "       -3.16431427e+04,  3.75017805e+03, -1.84755429e+03,  7.02191050e+03,\n",
       "       -3.87257688e+04, -2.48282670e+03,  1.87392876e+04,  4.72704874e+03,\n",
       "        2.42266906e+03, -3.44482326e+04, -8.06098730e+03, -8.69491427e+03,\n",
       "        1.20997442e+05,  4.09916532e+04, -1.09033389e+04, -2.50032270e+03,\n",
       "        3.91652980e+03, -1.63178240e+04, -1.48298505e+04,  6.21679145e+03,\n",
       "        9.99797242e+03,  5.10808645e+04, -1.13782514e+04,  3.98345721e+03,\n",
       "        1.55457741e+04, -1.63727847e+04,  1.21904063e+03, -9.29655577e+03,\n",
       "       -2.70117220e+03,  2.53502895e+17,  3.79748335e+03,  6.62053981e+16,\n",
       "        1.04922531e+17, -2.74433502e+17, -7.73414312e+03, -1.15544173e+03,\n",
       "       -1.30493026e+03, -1.29434535e+03,  2.37511098e+05,  1.65248749e+05,\n",
       "        3.71802983e+04, -1.70592816e+05,  1.27924156e+04,  1.29538780e+03,\n",
       "        1.39410182e+04,  5.25727530e+03, -5.54678620e+04, -5.47938088e+04,\n",
       "       -2.48584693e+04,  4.44855520e+04,  1.03257237e+04,  1.12234194e+04,\n",
       "       -7.02464311e+03,  5.11100202e+03,  9.02201089e+03, -5.81100053e+03,\n",
       "        3.72501255e+04,  7.37094774e+03,  3.82619147e+03,  8.47731804e+02,\n",
       "        4.14363984e+03,  1.35923181e+04, -7.29205630e+03,  5.98680985e+03,\n",
       "        1.11248131e+04,  2.18478582e+04,  8.50010022e+05, -7.00819983e+05,\n",
       "        3.76571312e+03, -1.50582355e+03,  1.43623196e+04, -1.26578146e+03,\n",
       "       -8.94355677e+02, -8.95591584e+03,  1.71989239e+04, -3.30523252e+03,\n",
       "       -3.06194313e+03,  1.18965941e+04])"
      ]
     },
     "execution_count": 104,
     "metadata": {},
     "output_type": "execute_result"
    }
   ],
   "source": [
    "linear_model.coef_"
   ]
  },
  {
   "cell_type": "code",
   "execution_count": 105,
   "id": "149ecd38-9ca7-478c-b2b4-fd32c2eb5641",
   "metadata": {},
   "outputs": [
    {
     "data": {
      "text/plain": [
       "143000"
      ]
     },
     "execution_count": 105,
     "metadata": {},
     "output_type": "execute_result"
    }
   ],
   "source": [
    "y.iloc[5]"
   ]
  },
  {
   "cell_type": "code",
   "execution_count": 106,
   "id": "b486342d-0fbd-4075-a7cc-90db83ea7ede",
   "metadata": {},
   "outputs": [
    {
     "name": "stderr",
     "output_type": "stream",
     "text": [
      "/home/harshkulkarni/venv/lib/python3.9/site-packages/sklearn/base.py:441: UserWarning: X does not have valid feature names, but LinearRegression was fitted with feature names\n",
      "  warnings.warn(\n"
     ]
    },
    {
     "data": {
      "text/plain": [
       "array([169191.45713785])"
      ]
     },
     "execution_count": 106,
     "metadata": {},
     "output_type": "execute_result"
    }
   ],
   "source": [
    "linear_model.predict([X.iloc[5]])"
   ]
  },
  {
   "cell_type": "code",
   "execution_count": 122,
   "id": "a739bbe4-2f9a-4efb-a1ba-6d05d5cec5c7",
   "metadata": {},
   "outputs": [],
   "source": [
    "scores=cross_val_score(linear_model,X,y,cv=10,scoring='neg_mean_squared_error')"
   ]
  },
  {
   "cell_type": "code",
   "execution_count": 123,
   "id": "f3e589c2-6516-44e3-98ae-57efbce97a84",
   "metadata": {},
   "outputs": [
    {
     "data": {
      "text/plain": [
       "2113685833884983.5"
      ]
     },
     "execution_count": 123,
     "metadata": {},
     "output_type": "execute_result"
    }
   ],
   "source": [
    "np.sqrt(-scores).mean()"
   ]
  },
  {
   "cell_type": "code",
   "execution_count": 155,
   "id": "ddbd3cd5-46e5-447e-aa5c-c484db0b52ca",
   "metadata": {},
   "outputs": [],
   "source": [
    "svr_model=SVR(kernel='linear')"
   ]
  },
  {
   "cell_type": "code",
   "execution_count": 156,
   "id": "047e7bcb-6353-44f3-b253-effaacbbfbc3",
   "metadata": {},
   "outputs": [
    {
     "data": {
      "text/plain": [
       "SVR(kernel='linear')"
      ]
     },
     "execution_count": 156,
     "metadata": {},
     "output_type": "execute_result"
    }
   ],
   "source": [
    "svr_model.fit(X,y)"
   ]
  },
  {
   "cell_type": "code",
   "execution_count": 157,
   "id": "c068ffaf-2582-48f0-b9ee-c05e2fa5fb34",
   "metadata": {},
   "outputs": [],
   "source": [
    "scores_svr=cross_val_score(svr_model,X,y,cv=10,scoring='neg_mean_squared_error')"
   ]
  },
  {
   "cell_type": "code",
   "execution_count": 158,
   "id": "25718375-1ca5-49f1-badb-ca25f2b44873",
   "metadata": {},
   "outputs": [
    {
     "data": {
      "text/plain": [
       "80395.7588172645"
      ]
     },
     "execution_count": 158,
     "metadata": {},
     "output_type": "execute_result"
    }
   ],
   "source": [
    "np.sqrt(-scores_svr).mean()"
   ]
  },
  {
   "cell_type": "code",
   "execution_count": null,
   "id": "8fbbc89f-c435-44da-b462-1c9ad0b7cb2a",
   "metadata": {},
   "outputs": [],
   "source": []
  },
  {
   "cell_type": "code",
   "execution_count": null,
   "id": "ed28a7fa-c138-4cba-bc48-5bf95abe6793",
   "metadata": {},
   "outputs": [],
   "source": []
  }
 ],
 "metadata": {
  "kernelspec": {
   "display_name": "Python 3 (ipykernel)",
   "language": "python",
   "name": "python3"
  },
  "language_info": {
   "codemirror_mode": {
    "name": "ipython",
    "version": 3
   },
   "file_extension": ".py",
   "mimetype": "text/x-python",
   "name": "python",
   "nbconvert_exporter": "python",
   "pygments_lexer": "ipython3",
   "version": "3.9.5"
  }
 },
 "nbformat": 4,
 "nbformat_minor": 5
}
