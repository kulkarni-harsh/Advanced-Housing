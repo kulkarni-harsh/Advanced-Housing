{
 "cells": [
  {
   "cell_type": "code",
   "execution_count": 1,
   "id": "b6ceba5f-3c53-41fe-921c-a7bb9e2bd01d",
   "metadata": {},
   "outputs": [],
   "source": [
    "import pandas as pd\n",
    "import numpy as np\n",
    "from sklearn.linear_model import LinearRegression ## linear regression model\n",
    "from sklearn.metrics import mean_absolute_error ## metric to find out any model's accuracy\n",
    "from sklearn.svm import LinearSVR ## another Regression model we can use pt 2\n",
    "from sklearn.svm import SVR ## another Regression model we can use pt.3\n",
    "from sklearn.ensemble import RandomForestRegressor ## another Regression model we can use pt 4\n",
    "from sklearn.model_selection import cross_val_score ## cross validation score\n",
    "import joblib                                       ## to export a model"
   ]
  },
  {
   "cell_type": "code",
   "execution_count": 2,
   "id": "1b87024e-fb37-47d0-9022-3c1b2e518244",
   "metadata": {},
   "outputs": [],
   "source": [
    "train_set=pd.read_csv('final_train_set.csv')\n",
    "test_set=pd.read_csv('final_test_set.csv')\n",
    "test_set_actual=pd.read_csv('test.csv')"
   ]
  },
  {
   "cell_type": "code",
   "execution_count": 3,
   "id": "10235b4b-1082-4e92-91b4-e68bb31e0605",
   "metadata": {},
   "outputs": [],
   "source": [
    "X_train,y_train=train_set.drop('SalePrice',axis=1),train_set[['SalePrice']].to_numpy().flatten()"
   ]
  },
  {
   "cell_type": "code",
   "execution_count": 4,
   "id": "a9067946-32e2-4cf9-b263-9bebbe8d2d53",
   "metadata": {},
   "outputs": [
    {
     "data": {
      "text/html": [
       "<div>\n",
       "<style scoped>\n",
       "    .dataframe tbody tr th:only-of-type {\n",
       "        vertical-align: middle;\n",
       "    }\n",
       "\n",
       "    .dataframe tbody tr th {\n",
       "        vertical-align: top;\n",
       "    }\n",
       "\n",
       "    .dataframe thead th {\n",
       "        text-align: right;\n",
       "    }\n",
       "</style>\n",
       "<table border=\"1\" class=\"dataframe\">\n",
       "  <thead>\n",
       "    <tr style=\"text-align: right;\">\n",
       "      <th></th>\n",
       "      <th>MSSubClass</th>\n",
       "      <th>LotFrontage</th>\n",
       "      <th>LotArea</th>\n",
       "      <th>OverallQual</th>\n",
       "      <th>OverallCond</th>\n",
       "      <th>YearBuilt</th>\n",
       "      <th>YearRemodAdd</th>\n",
       "      <th>MasVnrArea</th>\n",
       "      <th>BsmtFinSF1</th>\n",
       "      <th>BsmtFinSF2</th>\n",
       "      <th>...</th>\n",
       "      <th>SaleType_ConLw</th>\n",
       "      <th>SaleType_New</th>\n",
       "      <th>SaleType_Oth</th>\n",
       "      <th>SaleType_WD</th>\n",
       "      <th>SaleCondition_Abnorml</th>\n",
       "      <th>SaleCondition_AdjLand</th>\n",
       "      <th>SaleCondition_Alloca</th>\n",
       "      <th>SaleCondition_Family</th>\n",
       "      <th>SaleCondition_Normal</th>\n",
       "      <th>SaleCondition_Partial</th>\n",
       "    </tr>\n",
       "  </thead>\n",
       "  <tbody>\n",
       "    <tr>\n",
       "      <th>0</th>\n",
       "      <td>60.0</td>\n",
       "      <td>65.0</td>\n",
       "      <td>8450.0</td>\n",
       "      <td>7.0</td>\n",
       "      <td>5.0</td>\n",
       "      <td>2003.0</td>\n",
       "      <td>2003.0</td>\n",
       "      <td>196.0</td>\n",
       "      <td>706.0</td>\n",
       "      <td>0.0</td>\n",
       "      <td>...</td>\n",
       "      <td>0.0</td>\n",
       "      <td>0.0</td>\n",
       "      <td>0.0</td>\n",
       "      <td>1.0</td>\n",
       "      <td>0.0</td>\n",
       "      <td>0.0</td>\n",
       "      <td>0.0</td>\n",
       "      <td>0.0</td>\n",
       "      <td>1.0</td>\n",
       "      <td>0.0</td>\n",
       "    </tr>\n",
       "    <tr>\n",
       "      <th>1</th>\n",
       "      <td>20.0</td>\n",
       "      <td>80.0</td>\n",
       "      <td>9600.0</td>\n",
       "      <td>6.0</td>\n",
       "      <td>8.0</td>\n",
       "      <td>1976.0</td>\n",
       "      <td>1976.0</td>\n",
       "      <td>0.0</td>\n",
       "      <td>978.0</td>\n",
       "      <td>0.0</td>\n",
       "      <td>...</td>\n",
       "      <td>0.0</td>\n",
       "      <td>0.0</td>\n",
       "      <td>0.0</td>\n",
       "      <td>1.0</td>\n",
       "      <td>0.0</td>\n",
       "      <td>0.0</td>\n",
       "      <td>0.0</td>\n",
       "      <td>0.0</td>\n",
       "      <td>1.0</td>\n",
       "      <td>0.0</td>\n",
       "    </tr>\n",
       "    <tr>\n",
       "      <th>2</th>\n",
       "      <td>60.0</td>\n",
       "      <td>68.0</td>\n",
       "      <td>11250.0</td>\n",
       "      <td>7.0</td>\n",
       "      <td>5.0</td>\n",
       "      <td>2001.0</td>\n",
       "      <td>2002.0</td>\n",
       "      <td>162.0</td>\n",
       "      <td>486.0</td>\n",
       "      <td>0.0</td>\n",
       "      <td>...</td>\n",
       "      <td>0.0</td>\n",
       "      <td>0.0</td>\n",
       "      <td>0.0</td>\n",
       "      <td>1.0</td>\n",
       "      <td>0.0</td>\n",
       "      <td>0.0</td>\n",
       "      <td>0.0</td>\n",
       "      <td>0.0</td>\n",
       "      <td>1.0</td>\n",
       "      <td>0.0</td>\n",
       "    </tr>\n",
       "    <tr>\n",
       "      <th>3</th>\n",
       "      <td>70.0</td>\n",
       "      <td>60.0</td>\n",
       "      <td>9550.0</td>\n",
       "      <td>7.0</td>\n",
       "      <td>5.0</td>\n",
       "      <td>1915.0</td>\n",
       "      <td>1970.0</td>\n",
       "      <td>0.0</td>\n",
       "      <td>216.0</td>\n",
       "      <td>0.0</td>\n",
       "      <td>...</td>\n",
       "      <td>0.0</td>\n",
       "      <td>0.0</td>\n",
       "      <td>0.0</td>\n",
       "      <td>1.0</td>\n",
       "      <td>1.0</td>\n",
       "      <td>0.0</td>\n",
       "      <td>0.0</td>\n",
       "      <td>0.0</td>\n",
       "      <td>0.0</td>\n",
       "      <td>0.0</td>\n",
       "    </tr>\n",
       "    <tr>\n",
       "      <th>4</th>\n",
       "      <td>60.0</td>\n",
       "      <td>84.0</td>\n",
       "      <td>14260.0</td>\n",
       "      <td>8.0</td>\n",
       "      <td>5.0</td>\n",
       "      <td>2000.0</td>\n",
       "      <td>2000.0</td>\n",
       "      <td>350.0</td>\n",
       "      <td>655.0</td>\n",
       "      <td>0.0</td>\n",
       "      <td>...</td>\n",
       "      <td>0.0</td>\n",
       "      <td>0.0</td>\n",
       "      <td>0.0</td>\n",
       "      <td>1.0</td>\n",
       "      <td>0.0</td>\n",
       "      <td>0.0</td>\n",
       "      <td>0.0</td>\n",
       "      <td>0.0</td>\n",
       "      <td>1.0</td>\n",
       "      <td>0.0</td>\n",
       "    </tr>\n",
       "    <tr>\n",
       "      <th>...</th>\n",
       "      <td>...</td>\n",
       "      <td>...</td>\n",
       "      <td>...</td>\n",
       "      <td>...</td>\n",
       "      <td>...</td>\n",
       "      <td>...</td>\n",
       "      <td>...</td>\n",
       "      <td>...</td>\n",
       "      <td>...</td>\n",
       "      <td>...</td>\n",
       "      <td>...</td>\n",
       "      <td>...</td>\n",
       "      <td>...</td>\n",
       "      <td>...</td>\n",
       "      <td>...</td>\n",
       "      <td>...</td>\n",
       "      <td>...</td>\n",
       "      <td>...</td>\n",
       "      <td>...</td>\n",
       "      <td>...</td>\n",
       "      <td>...</td>\n",
       "    </tr>\n",
       "    <tr>\n",
       "      <th>1455</th>\n",
       "      <td>60.0</td>\n",
       "      <td>62.0</td>\n",
       "      <td>7917.0</td>\n",
       "      <td>6.0</td>\n",
       "      <td>5.0</td>\n",
       "      <td>1999.0</td>\n",
       "      <td>2000.0</td>\n",
       "      <td>0.0</td>\n",
       "      <td>0.0</td>\n",
       "      <td>0.0</td>\n",
       "      <td>...</td>\n",
       "      <td>0.0</td>\n",
       "      <td>0.0</td>\n",
       "      <td>0.0</td>\n",
       "      <td>1.0</td>\n",
       "      <td>0.0</td>\n",
       "      <td>0.0</td>\n",
       "      <td>0.0</td>\n",
       "      <td>0.0</td>\n",
       "      <td>1.0</td>\n",
       "      <td>0.0</td>\n",
       "    </tr>\n",
       "    <tr>\n",
       "      <th>1456</th>\n",
       "      <td>20.0</td>\n",
       "      <td>85.0</td>\n",
       "      <td>13175.0</td>\n",
       "      <td>6.0</td>\n",
       "      <td>6.0</td>\n",
       "      <td>1978.0</td>\n",
       "      <td>1988.0</td>\n",
       "      <td>119.0</td>\n",
       "      <td>790.0</td>\n",
       "      <td>163.0</td>\n",
       "      <td>...</td>\n",
       "      <td>0.0</td>\n",
       "      <td>0.0</td>\n",
       "      <td>0.0</td>\n",
       "      <td>1.0</td>\n",
       "      <td>0.0</td>\n",
       "      <td>0.0</td>\n",
       "      <td>0.0</td>\n",
       "      <td>0.0</td>\n",
       "      <td>1.0</td>\n",
       "      <td>0.0</td>\n",
       "    </tr>\n",
       "    <tr>\n",
       "      <th>1457</th>\n",
       "      <td>70.0</td>\n",
       "      <td>66.0</td>\n",
       "      <td>9042.0</td>\n",
       "      <td>7.0</td>\n",
       "      <td>9.0</td>\n",
       "      <td>1941.0</td>\n",
       "      <td>2006.0</td>\n",
       "      <td>0.0</td>\n",
       "      <td>275.0</td>\n",
       "      <td>0.0</td>\n",
       "      <td>...</td>\n",
       "      <td>0.0</td>\n",
       "      <td>0.0</td>\n",
       "      <td>0.0</td>\n",
       "      <td>1.0</td>\n",
       "      <td>0.0</td>\n",
       "      <td>0.0</td>\n",
       "      <td>0.0</td>\n",
       "      <td>0.0</td>\n",
       "      <td>1.0</td>\n",
       "      <td>0.0</td>\n",
       "    </tr>\n",
       "    <tr>\n",
       "      <th>1458</th>\n",
       "      <td>20.0</td>\n",
       "      <td>68.0</td>\n",
       "      <td>9717.0</td>\n",
       "      <td>5.0</td>\n",
       "      <td>6.0</td>\n",
       "      <td>1950.0</td>\n",
       "      <td>1996.0</td>\n",
       "      <td>0.0</td>\n",
       "      <td>49.0</td>\n",
       "      <td>1029.0</td>\n",
       "      <td>...</td>\n",
       "      <td>0.0</td>\n",
       "      <td>0.0</td>\n",
       "      <td>0.0</td>\n",
       "      <td>1.0</td>\n",
       "      <td>0.0</td>\n",
       "      <td>0.0</td>\n",
       "      <td>0.0</td>\n",
       "      <td>0.0</td>\n",
       "      <td>1.0</td>\n",
       "      <td>0.0</td>\n",
       "    </tr>\n",
       "    <tr>\n",
       "      <th>1459</th>\n",
       "      <td>20.0</td>\n",
       "      <td>75.0</td>\n",
       "      <td>9937.0</td>\n",
       "      <td>5.0</td>\n",
       "      <td>6.0</td>\n",
       "      <td>1965.0</td>\n",
       "      <td>1965.0</td>\n",
       "      <td>0.0</td>\n",
       "      <td>830.0</td>\n",
       "      <td>290.0</td>\n",
       "      <td>...</td>\n",
       "      <td>0.0</td>\n",
       "      <td>0.0</td>\n",
       "      <td>0.0</td>\n",
       "      <td>1.0</td>\n",
       "      <td>0.0</td>\n",
       "      <td>0.0</td>\n",
       "      <td>0.0</td>\n",
       "      <td>0.0</td>\n",
       "      <td>1.0</td>\n",
       "      <td>0.0</td>\n",
       "    </tr>\n",
       "  </tbody>\n",
       "</table>\n",
       "<p>1460 rows × 326 columns</p>\n",
       "</div>"
      ],
      "text/plain": [
       "      MSSubClass  LotFrontage  LotArea  OverallQual  OverallCond  YearBuilt  \\\n",
       "0           60.0         65.0   8450.0          7.0          5.0     2003.0   \n",
       "1           20.0         80.0   9600.0          6.0          8.0     1976.0   \n",
       "2           60.0         68.0  11250.0          7.0          5.0     2001.0   \n",
       "3           70.0         60.0   9550.0          7.0          5.0     1915.0   \n",
       "4           60.0         84.0  14260.0          8.0          5.0     2000.0   \n",
       "...          ...          ...      ...          ...          ...        ...   \n",
       "1455        60.0         62.0   7917.0          6.0          5.0     1999.0   \n",
       "1456        20.0         85.0  13175.0          6.0          6.0     1978.0   \n",
       "1457        70.0         66.0   9042.0          7.0          9.0     1941.0   \n",
       "1458        20.0         68.0   9717.0          5.0          6.0     1950.0   \n",
       "1459        20.0         75.0   9937.0          5.0          6.0     1965.0   \n",
       "\n",
       "      YearRemodAdd  MasVnrArea  BsmtFinSF1  BsmtFinSF2  ...  SaleType_ConLw  \\\n",
       "0           2003.0       196.0       706.0         0.0  ...             0.0   \n",
       "1           1976.0         0.0       978.0         0.0  ...             0.0   \n",
       "2           2002.0       162.0       486.0         0.0  ...             0.0   \n",
       "3           1970.0         0.0       216.0         0.0  ...             0.0   \n",
       "4           2000.0       350.0       655.0         0.0  ...             0.0   \n",
       "...            ...         ...         ...         ...  ...             ...   \n",
       "1455        2000.0         0.0         0.0         0.0  ...             0.0   \n",
       "1456        1988.0       119.0       790.0       163.0  ...             0.0   \n",
       "1457        2006.0         0.0       275.0         0.0  ...             0.0   \n",
       "1458        1996.0         0.0        49.0      1029.0  ...             0.0   \n",
       "1459        1965.0         0.0       830.0       290.0  ...             0.0   \n",
       "\n",
       "      SaleType_New  SaleType_Oth  SaleType_WD  SaleCondition_Abnorml  \\\n",
       "0              0.0           0.0          1.0                    0.0   \n",
       "1              0.0           0.0          1.0                    0.0   \n",
       "2              0.0           0.0          1.0                    0.0   \n",
       "3              0.0           0.0          1.0                    1.0   \n",
       "4              0.0           0.0          1.0                    0.0   \n",
       "...            ...           ...          ...                    ...   \n",
       "1455           0.0           0.0          1.0                    0.0   \n",
       "1456           0.0           0.0          1.0                    0.0   \n",
       "1457           0.0           0.0          1.0                    0.0   \n",
       "1458           0.0           0.0          1.0                    0.0   \n",
       "1459           0.0           0.0          1.0                    0.0   \n",
       "\n",
       "      SaleCondition_AdjLand  SaleCondition_Alloca  SaleCondition_Family  \\\n",
       "0                       0.0                   0.0                   0.0   \n",
       "1                       0.0                   0.0                   0.0   \n",
       "2                       0.0                   0.0                   0.0   \n",
       "3                       0.0                   0.0                   0.0   \n",
       "4                       0.0                   0.0                   0.0   \n",
       "...                     ...                   ...                   ...   \n",
       "1455                    0.0                   0.0                   0.0   \n",
       "1456                    0.0                   0.0                   0.0   \n",
       "1457                    0.0                   0.0                   0.0   \n",
       "1458                    0.0                   0.0                   0.0   \n",
       "1459                    0.0                   0.0                   0.0   \n",
       "\n",
       "      SaleCondition_Normal  SaleCondition_Partial  \n",
       "0                      1.0                    0.0  \n",
       "1                      1.0                    0.0  \n",
       "2                      1.0                    0.0  \n",
       "3                      0.0                    0.0  \n",
       "4                      1.0                    0.0  \n",
       "...                    ...                    ...  \n",
       "1455                   1.0                    0.0  \n",
       "1456                   1.0                    0.0  \n",
       "1457                   1.0                    0.0  \n",
       "1458                   1.0                    0.0  \n",
       "1459                   1.0                    0.0  \n",
       "\n",
       "[1460 rows x 326 columns]"
      ]
     },
     "execution_count": 4,
     "metadata": {},
     "output_type": "execute_result"
    }
   ],
   "source": [
    "X_train"
   ]
  },
  {
   "cell_type": "code",
   "execution_count": 5,
   "id": "7338cad9-f96b-4d89-b964-14cb30a63c91",
   "metadata": {},
   "outputs": [
    {
     "data": {
      "text/plain": [
       "array([208500., 181500., 223500., ..., 266500., 142125., 147500.])"
      ]
     },
     "execution_count": 5,
     "metadata": {},
     "output_type": "execute_result"
    }
   ],
   "source": [
    "y_train"
   ]
  },
  {
   "cell_type": "markdown",
   "id": "4a8d1fb6-4072-4911-9802-a60457176db1",
   "metadata": {},
   "source": [
    "# Linear Regression Model"
   ]
  },
  {
   "cell_type": "code",
   "execution_count": 6,
   "id": "78bad6c8-b463-4bf3-aba0-ed7a64742257",
   "metadata": {},
   "outputs": [],
   "source": [
    "## 1st model using LinearRegression\n",
    "linear_model=LinearRegression()"
   ]
  },
  {
   "cell_type": "code",
   "execution_count": 7,
   "id": "d710defd-a654-45a3-bce6-8cfafa87b3b8",
   "metadata": {},
   "outputs": [
    {
     "data": {
      "text/plain": [
       "LinearRegression()"
      ]
     },
     "execution_count": 7,
     "metadata": {},
     "output_type": "execute_result"
    }
   ],
   "source": [
    "linear_model.fit(X_train,y_train)"
   ]
  },
  {
   "cell_type": "code",
   "execution_count": null,
   "id": "c0e733e0-0805-420d-8429-fb029ba963d1",
   "metadata": {},
   "outputs": [],
   "source": []
  },
  {
   "cell_type": "code",
   "execution_count": 8,
   "id": "2061ea4f-d6e9-4e8e-93b2-c6aa152e5f42",
   "metadata": {},
   "outputs": [],
   "source": [
    "y_linear_predicted=linear_model.predict(X_train)"
   ]
  },
  {
   "cell_type": "code",
   "execution_count": 9,
   "id": "423b021a-743c-4db4-8157-65d24a8e73d7",
   "metadata": {},
   "outputs": [
    {
     "data": {
      "text/plain": [
       "array([208541.82623178, 205564.78540582, 205374.87520883, ...,\n",
       "       275419.98534338, 141488.94167508, 149073.22041806])"
      ]
     },
     "execution_count": 9,
     "metadata": {},
     "output_type": "execute_result"
    }
   ],
   "source": [
    "y_linear_predicted"
   ]
  },
  {
   "cell_type": "code",
   "execution_count": 10,
   "id": "f044b88c-d48c-4430-805b-16a0188b3d39",
   "metadata": {},
   "outputs": [
    {
     "data": {
      "text/plain": [
       "13223.676215904054"
      ]
     },
     "execution_count": 10,
     "metadata": {},
     "output_type": "execute_result"
    }
   ],
   "source": [
    "mean_absolute_error(y_train,y_linear_predicted)"
   ]
  },
  {
   "cell_type": "code",
   "execution_count": 11,
   "id": "823d672b-2557-4468-9c97-b14e3021b056",
   "metadata": {},
   "outputs": [],
   "source": [
    "linear_scores=cross_val_score(linear_model,X_train,y_train,scoring='neg_mean_squared_error',cv=10)"
   ]
  },
  {
   "cell_type": "code",
   "execution_count": 12,
   "id": "bdcc59e3-e4c9-49b7-8d29-d858a34701e0",
   "metadata": {},
   "outputs": [
    {
     "data": {
      "text/plain": [
       "array([-5.71285829e+08, -1.20680339e+09, -5.50726808e+08, -1.72054080e+09,\n",
       "       -9.16074525e+08, -1.94746256e+09, -5.90114420e+08, -5.17889238e+08,\n",
       "       -4.52906284e+09, -1.16805508e+10])"
      ]
     },
     "execution_count": 12,
     "metadata": {},
     "output_type": "execute_result"
    }
   ],
   "source": [
    "linear_scores"
   ]
  },
  {
   "cell_type": "code",
   "execution_count": 13,
   "id": "dd9414e3-a3f7-46e2-9a3a-eed55f7e7b30",
   "metadata": {},
   "outputs": [
    {
     "data": {
      "text/plain": [
       "42040.878091097446"
      ]
     },
     "execution_count": 13,
     "metadata": {},
     "output_type": "execute_result"
    }
   ],
   "source": [
    "np.sqrt(-linear_scores).mean()"
   ]
  },
  {
   "cell_type": "code",
   "execution_count": 14,
   "id": "bd66cae9-3ac2-4eb1-876c-4c1f96407fb1",
   "metadata": {},
   "outputs": [],
   "source": [
    "y_linear_predicted=linear_model.predict(test_set)"
   ]
  },
  {
   "cell_type": "code",
   "execution_count": 15,
   "id": "c8d42f39-9849-48be-ad07-900b23412788",
   "metadata": {},
   "outputs": [
    {
     "data": {
      "text/plain": [
       "array([112578.43674876, 159150.48353728, 186307.35012957, ...,\n",
       "       179206.07785421, 114926.39228157, 223195.95322299])"
      ]
     },
     "execution_count": 15,
     "metadata": {},
     "output_type": "execute_result"
    }
   ],
   "source": [
    "y_linear_predicted"
   ]
  },
  {
   "cell_type": "code",
   "execution_count": 16,
   "id": "7e76879f-cb1f-4f43-bdf8-4a32bdb7a8b7",
   "metadata": {},
   "outputs": [
    {
     "data": {
      "text/html": [
       "<div>\n",
       "<style scoped>\n",
       "    .dataframe tbody tr th:only-of-type {\n",
       "        vertical-align: middle;\n",
       "    }\n",
       "\n",
       "    .dataframe tbody tr th {\n",
       "        vertical-align: top;\n",
       "    }\n",
       "\n",
       "    .dataframe thead th {\n",
       "        text-align: right;\n",
       "    }\n",
       "</style>\n",
       "<table border=\"1\" class=\"dataframe\">\n",
       "  <thead>\n",
       "    <tr style=\"text-align: right;\">\n",
       "      <th></th>\n",
       "      <th>SalePrice</th>\n",
       "    </tr>\n",
       "  </thead>\n",
       "  <tbody>\n",
       "    <tr>\n",
       "      <th>0</th>\n",
       "      <td>112578.436749</td>\n",
       "    </tr>\n",
       "    <tr>\n",
       "      <th>1</th>\n",
       "      <td>159150.483537</td>\n",
       "    </tr>\n",
       "    <tr>\n",
       "      <th>2</th>\n",
       "      <td>186307.350130</td>\n",
       "    </tr>\n",
       "    <tr>\n",
       "      <th>3</th>\n",
       "      <td>196793.307868</td>\n",
       "    </tr>\n",
       "    <tr>\n",
       "      <th>4</th>\n",
       "      <td>205368.704295</td>\n",
       "    </tr>\n",
       "    <tr>\n",
       "      <th>...</th>\n",
       "      <td>...</td>\n",
       "    </tr>\n",
       "    <tr>\n",
       "      <th>1454</th>\n",
       "      <td>84246.140415</td>\n",
       "    </tr>\n",
       "    <tr>\n",
       "      <th>1455</th>\n",
       "      <td>79792.033586</td>\n",
       "    </tr>\n",
       "    <tr>\n",
       "      <th>1456</th>\n",
       "      <td>179206.077854</td>\n",
       "    </tr>\n",
       "    <tr>\n",
       "      <th>1457</th>\n",
       "      <td>114926.392282</td>\n",
       "    </tr>\n",
       "    <tr>\n",
       "      <th>1458</th>\n",
       "      <td>223195.953223</td>\n",
       "    </tr>\n",
       "  </tbody>\n",
       "</table>\n",
       "<p>1459 rows × 1 columns</p>\n",
       "</div>"
      ],
      "text/plain": [
       "          SalePrice\n",
       "0     112578.436749\n",
       "1     159150.483537\n",
       "2     186307.350130\n",
       "3     196793.307868\n",
       "4     205368.704295\n",
       "...             ...\n",
       "1454   84246.140415\n",
       "1455   79792.033586\n",
       "1456  179206.077854\n",
       "1457  114926.392282\n",
       "1458  223195.953223\n",
       "\n",
       "[1459 rows x 1 columns]"
      ]
     },
     "execution_count": 16,
     "metadata": {},
     "output_type": "execute_result"
    }
   ],
   "source": [
    "pd.DataFrame(y_linear_predicted,columns=['SalePrice'])"
   ]
  },
  {
   "cell_type": "code",
   "execution_count": 17,
   "id": "5bd08aaf-cadc-4dc2-b5ff-a232654a2152",
   "metadata": {},
   "outputs": [],
   "source": [
    "test_set_actual=pd.read_csv('test.csv')"
   ]
  },
  {
   "cell_type": "code",
   "execution_count": 18,
   "id": "806e924e-2b73-44e7-a41d-402f2d422ad7",
   "metadata": {},
   "outputs": [],
   "source": [
    "y_linear_predicted_df=pd.DataFrame(test_set_actual['Id'])\n",
    "y_linear_predicted_df['SalePrice']=y_linear_predicted"
   ]
  },
  {
   "cell_type": "code",
   "execution_count": 19,
   "id": "1f00825b-f50b-4a3e-8104-33ccbc2fd5db",
   "metadata": {},
   "outputs": [
    {
     "data": {
      "text/html": [
       "<div>\n",
       "<style scoped>\n",
       "    .dataframe tbody tr th:only-of-type {\n",
       "        vertical-align: middle;\n",
       "    }\n",
       "\n",
       "    .dataframe tbody tr th {\n",
       "        vertical-align: top;\n",
       "    }\n",
       "\n",
       "    .dataframe thead th {\n",
       "        text-align: right;\n",
       "    }\n",
       "</style>\n",
       "<table border=\"1\" class=\"dataframe\">\n",
       "  <thead>\n",
       "    <tr style=\"text-align: right;\">\n",
       "      <th></th>\n",
       "      <th>Id</th>\n",
       "      <th>SalePrice</th>\n",
       "    </tr>\n",
       "  </thead>\n",
       "  <tbody>\n",
       "    <tr>\n",
       "      <th>0</th>\n",
       "      <td>1461</td>\n",
       "      <td>112578.436749</td>\n",
       "    </tr>\n",
       "    <tr>\n",
       "      <th>1</th>\n",
       "      <td>1462</td>\n",
       "      <td>159150.483537</td>\n",
       "    </tr>\n",
       "    <tr>\n",
       "      <th>2</th>\n",
       "      <td>1463</td>\n",
       "      <td>186307.350130</td>\n",
       "    </tr>\n",
       "    <tr>\n",
       "      <th>3</th>\n",
       "      <td>1464</td>\n",
       "      <td>196793.307868</td>\n",
       "    </tr>\n",
       "    <tr>\n",
       "      <th>4</th>\n",
       "      <td>1465</td>\n",
       "      <td>205368.704295</td>\n",
       "    </tr>\n",
       "    <tr>\n",
       "      <th>...</th>\n",
       "      <td>...</td>\n",
       "      <td>...</td>\n",
       "    </tr>\n",
       "    <tr>\n",
       "      <th>1454</th>\n",
       "      <td>2915</td>\n",
       "      <td>84246.140415</td>\n",
       "    </tr>\n",
       "    <tr>\n",
       "      <th>1455</th>\n",
       "      <td>2916</td>\n",
       "      <td>79792.033586</td>\n",
       "    </tr>\n",
       "    <tr>\n",
       "      <th>1456</th>\n",
       "      <td>2917</td>\n",
       "      <td>179206.077854</td>\n",
       "    </tr>\n",
       "    <tr>\n",
       "      <th>1457</th>\n",
       "      <td>2918</td>\n",
       "      <td>114926.392282</td>\n",
       "    </tr>\n",
       "    <tr>\n",
       "      <th>1458</th>\n",
       "      <td>2919</td>\n",
       "      <td>223195.953223</td>\n",
       "    </tr>\n",
       "  </tbody>\n",
       "</table>\n",
       "<p>1459 rows × 2 columns</p>\n",
       "</div>"
      ],
      "text/plain": [
       "        Id      SalePrice\n",
       "0     1461  112578.436749\n",
       "1     1462  159150.483537\n",
       "2     1463  186307.350130\n",
       "3     1464  196793.307868\n",
       "4     1465  205368.704295\n",
       "...    ...            ...\n",
       "1454  2915   84246.140415\n",
       "1455  2916   79792.033586\n",
       "1456  2917  179206.077854\n",
       "1457  2918  114926.392282\n",
       "1458  2919  223195.953223\n",
       "\n",
       "[1459 rows x 2 columns]"
      ]
     },
     "execution_count": 19,
     "metadata": {},
     "output_type": "execute_result"
    }
   ],
   "source": [
    "y_linear_predicted_df"
   ]
  },
  {
   "cell_type": "code",
   "execution_count": 20,
   "id": "b7834b9a-cd08-43e1-8194-5ebaf582d1cd",
   "metadata": {},
   "outputs": [],
   "source": [
    "y_linear_predicted_df.to_csv('y_linear_predicted.csv',index=False)"
   ]
  },
  {
   "cell_type": "code",
   "execution_count": null,
   "id": "bc1299fe-289d-4910-8d97-6ebce83e85f4",
   "metadata": {},
   "outputs": [],
   "source": []
  },
  {
   "cell_type": "markdown",
   "id": "5819edd5-b368-447e-acb8-107f7335d2bf",
   "metadata": {},
   "source": [
    "# Random Forest Regressor Model"
   ]
  },
  {
   "cell_type": "code",
   "execution_count": null,
   "id": "002e96f8-ace8-467a-b170-3151220b7a57",
   "metadata": {},
   "outputs": [],
   "source": []
  },
  {
   "cell_type": "code",
   "execution_count": 21,
   "id": "54c8357b-9c15-46a3-82a9-86ef55108169",
   "metadata": {},
   "outputs": [],
   "source": [
    "forest_reg=RandomForestRegressor()"
   ]
  },
  {
   "cell_type": "code",
   "execution_count": 22,
   "id": "372a621e-4c21-49f7-9cea-d75692a9ef9c",
   "metadata": {},
   "outputs": [
    {
     "data": {
      "text/plain": [
       "RandomForestRegressor()"
      ]
     },
     "execution_count": 22,
     "metadata": {},
     "output_type": "execute_result"
    }
   ],
   "source": [
    "forest_reg.fit(X_train,y_train)"
   ]
  },
  {
   "cell_type": "code",
   "execution_count": 23,
   "id": "69885e30-83c3-4968-8d6e-88daa5da121d",
   "metadata": {},
   "outputs": [],
   "source": [
    "reg_scores=cross_val_score(forest_reg,X_train,y_train,scoring='neg_mean_squared_error',cv=10)"
   ]
  },
  {
   "cell_type": "code",
   "execution_count": 24,
   "id": "c72a0f44-ddc1-4f89-8e33-943a09d4c343",
   "metadata": {},
   "outputs": [
    {
     "data": {
      "text/plain": [
       "array([-6.15817830e+08, -6.92343425e+08, -4.88995624e+08, -1.46146097e+09,\n",
       "       -1.07833414e+09, -6.91600186e+08, -5.46876135e+08, -5.80502041e+08,\n",
       "       -1.66227339e+09, -7.46090963e+08])"
      ]
     },
     "execution_count": 24,
     "metadata": {},
     "output_type": "execute_result"
    }
   ],
   "source": [
    "reg_scores"
   ]
  },
  {
   "cell_type": "code",
   "execution_count": 25,
   "id": "8a64f91a-0df0-4224-80dc-a5116d7ba75c",
   "metadata": {},
   "outputs": [
    {
     "data": {
      "text/plain": [
       "28617.13379596162"
      ]
     },
     "execution_count": 25,
     "metadata": {},
     "output_type": "execute_result"
    }
   ],
   "source": [
    "np.sqrt(-reg_scores).mean()"
   ]
  },
  {
   "cell_type": "code",
   "execution_count": 26,
   "id": "98ca2da4-02df-4908-93fc-491c21bdc999",
   "metadata": {},
   "outputs": [],
   "source": [
    "y_random_predicted=forest_reg.predict(test_set)"
   ]
  },
  {
   "cell_type": "code",
   "execution_count": 27,
   "id": "4b50dd36-6423-4a58-9fd2-f9cab4507d49",
   "metadata": {},
   "outputs": [
    {
     "data": {
      "text/html": [
       "<div>\n",
       "<style scoped>\n",
       "    .dataframe tbody tr th:only-of-type {\n",
       "        vertical-align: middle;\n",
       "    }\n",
       "\n",
       "    .dataframe tbody tr th {\n",
       "        vertical-align: top;\n",
       "    }\n",
       "\n",
       "    .dataframe thead th {\n",
       "        text-align: right;\n",
       "    }\n",
       "</style>\n",
       "<table border=\"1\" class=\"dataframe\">\n",
       "  <thead>\n",
       "    <tr style=\"text-align: right;\">\n",
       "      <th></th>\n",
       "      <th>SalePrice</th>\n",
       "    </tr>\n",
       "  </thead>\n",
       "  <tbody>\n",
       "    <tr>\n",
       "      <th>0</th>\n",
       "      <td>126571.50</td>\n",
       "    </tr>\n",
       "    <tr>\n",
       "      <th>1</th>\n",
       "      <td>150372.50</td>\n",
       "    </tr>\n",
       "    <tr>\n",
       "      <th>2</th>\n",
       "      <td>182975.51</td>\n",
       "    </tr>\n",
       "    <tr>\n",
       "      <th>3</th>\n",
       "      <td>181608.32</td>\n",
       "    </tr>\n",
       "    <tr>\n",
       "      <th>4</th>\n",
       "      <td>196473.27</td>\n",
       "    </tr>\n",
       "    <tr>\n",
       "      <th>...</th>\n",
       "      <td>...</td>\n",
       "    </tr>\n",
       "    <tr>\n",
       "      <th>1454</th>\n",
       "      <td>88414.50</td>\n",
       "    </tr>\n",
       "    <tr>\n",
       "      <th>1455</th>\n",
       "      <td>85869.00</td>\n",
       "    </tr>\n",
       "    <tr>\n",
       "      <th>1456</th>\n",
       "      <td>154646.09</td>\n",
       "    </tr>\n",
       "    <tr>\n",
       "      <th>1457</th>\n",
       "      <td>110509.75</td>\n",
       "    </tr>\n",
       "    <tr>\n",
       "      <th>1458</th>\n",
       "      <td>227996.16</td>\n",
       "    </tr>\n",
       "  </tbody>\n",
       "</table>\n",
       "<p>1459 rows × 1 columns</p>\n",
       "</div>"
      ],
      "text/plain": [
       "      SalePrice\n",
       "0     126571.50\n",
       "1     150372.50\n",
       "2     182975.51\n",
       "3     181608.32\n",
       "4     196473.27\n",
       "...         ...\n",
       "1454   88414.50\n",
       "1455   85869.00\n",
       "1456  154646.09\n",
       "1457  110509.75\n",
       "1458  227996.16\n",
       "\n",
       "[1459 rows x 1 columns]"
      ]
     },
     "execution_count": 27,
     "metadata": {},
     "output_type": "execute_result"
    }
   ],
   "source": [
    "pd.DataFrame(y_random_predicted,columns=['SalePrice'])"
   ]
  },
  {
   "cell_type": "code",
   "execution_count": 28,
   "id": "e3009b7a-dd1a-40ff-b6fe-c4995c02d05b",
   "metadata": {},
   "outputs": [],
   "source": [
    "y_random_predicted_df=pd.DataFrame(test_set_actual['Id'])\n",
    "y_random_predicted_df['SalePrice']=y_random_predicted"
   ]
  },
  {
   "cell_type": "code",
   "execution_count": 29,
   "id": "8d8aa2b3-5159-48f0-8f8e-4ed2dcfd3a5a",
   "metadata": {},
   "outputs": [],
   "source": [
    "y_random_predicted_df.to_csv('y_random_predicted.csv',index=False)"
   ]
  },
  {
   "cell_type": "code",
   "execution_count": null,
   "id": "d54732dc-35c8-4ffa-a7be-e2cf0d9c6580",
   "metadata": {},
   "outputs": [],
   "source": []
  },
  {
   "cell_type": "markdown",
   "id": "f4384885-5221-483b-9d7c-3d901c8246e0",
   "metadata": {},
   "source": [
    "# Linear Support Vector Machine Regressor (Linear SVR)"
   ]
  },
  {
   "cell_type": "code",
   "execution_count": null,
   "id": "f3f59a9a-5ddb-4cfc-bbc8-bb35b4b05813",
   "metadata": {},
   "outputs": [],
   "source": []
  },
  {
   "cell_type": "code",
   "execution_count": 30,
   "id": "6ed0dc32-074e-495e-8ece-15ba296ee036",
   "metadata": {},
   "outputs": [],
   "source": [
    "linear_svr_model=LinearSVR()"
   ]
  },
  {
   "cell_type": "code",
   "execution_count": 31,
   "id": "56b60668-a8a1-42dc-b01c-0164142d5f16",
   "metadata": {},
   "outputs": [
    {
     "name": "stderr",
     "output_type": "stream",
     "text": [
      "/home/harshkulkarni/venv/lib/python3.9/site-packages/sklearn/svm/_base.py:1206: ConvergenceWarning: Liblinear failed to converge, increase the number of iterations.\n",
      "  warnings.warn(\n"
     ]
    },
    {
     "data": {
      "text/plain": [
       "LinearSVR()"
      ]
     },
     "execution_count": 31,
     "metadata": {},
     "output_type": "execute_result"
    }
   ],
   "source": [
    "linear_svr_model.fit(X_train,y_train)"
   ]
  },
  {
   "cell_type": "code",
   "execution_count": 32,
   "id": "c4618ce2-d01c-4049-87ff-60611b8603a4",
   "metadata": {},
   "outputs": [],
   "source": [
    "y_svr_linear_predicted=linear_svr_model.predict(X_train)"
   ]
  },
  {
   "cell_type": "code",
   "execution_count": 33,
   "id": "eb314c08-6029-4e87-b02f-0e3793f6e6f5",
   "metadata": {},
   "outputs": [
    {
     "data": {
      "text/plain": [
       "23607.68811087901"
      ]
     },
     "execution_count": 33,
     "metadata": {},
     "output_type": "execute_result"
    }
   ],
   "source": [
    "mean_absolute_error(y_train,y_svr_linear_predicted)"
   ]
  },
  {
   "cell_type": "code",
   "execution_count": 34,
   "id": "404b32f7-c974-43fe-a428-8d56c86457ae",
   "metadata": {},
   "outputs": [],
   "source": [
    "y_linear_svr_predicted=linear_svr_model.predict(test_set)"
   ]
  },
  {
   "cell_type": "code",
   "execution_count": 35,
   "id": "c7185c79-929f-4837-909f-a0f3623d17fb",
   "metadata": {},
   "outputs": [
    {
     "data": {
      "text/html": [
       "<div>\n",
       "<style scoped>\n",
       "    .dataframe tbody tr th:only-of-type {\n",
       "        vertical-align: middle;\n",
       "    }\n",
       "\n",
       "    .dataframe tbody tr th {\n",
       "        vertical-align: top;\n",
       "    }\n",
       "\n",
       "    .dataframe thead th {\n",
       "        text-align: right;\n",
       "    }\n",
       "</style>\n",
       "<table border=\"1\" class=\"dataframe\">\n",
       "  <thead>\n",
       "    <tr style=\"text-align: right;\">\n",
       "      <th></th>\n",
       "      <th>SalePrice</th>\n",
       "    </tr>\n",
       "  </thead>\n",
       "  <tbody>\n",
       "    <tr>\n",
       "      <th>0</th>\n",
       "      <td>132080.075030</td>\n",
       "    </tr>\n",
       "    <tr>\n",
       "      <th>1</th>\n",
       "      <td>189582.152890</td>\n",
       "    </tr>\n",
       "    <tr>\n",
       "      <th>2</th>\n",
       "      <td>208439.512090</td>\n",
       "    </tr>\n",
       "    <tr>\n",
       "      <th>3</th>\n",
       "      <td>205737.916673</td>\n",
       "    </tr>\n",
       "    <tr>\n",
       "      <th>4</th>\n",
       "      <td>180604.375975</td>\n",
       "    </tr>\n",
       "    <tr>\n",
       "      <th>...</th>\n",
       "      <td>...</td>\n",
       "    </tr>\n",
       "    <tr>\n",
       "      <th>1454</th>\n",
       "      <td>83593.293234</td>\n",
       "    </tr>\n",
       "    <tr>\n",
       "      <th>1455</th>\n",
       "      <td>99331.376538</td>\n",
       "    </tr>\n",
       "    <tr>\n",
       "      <th>1456</th>\n",
       "      <td>199525.673436</td>\n",
       "    </tr>\n",
       "    <tr>\n",
       "      <th>1457</th>\n",
       "      <td>127931.685251</td>\n",
       "    </tr>\n",
       "    <tr>\n",
       "      <th>1458</th>\n",
       "      <td>242751.119814</td>\n",
       "    </tr>\n",
       "  </tbody>\n",
       "</table>\n",
       "<p>1459 rows × 1 columns</p>\n",
       "</div>"
      ],
      "text/plain": [
       "          SalePrice\n",
       "0     132080.075030\n",
       "1     189582.152890\n",
       "2     208439.512090\n",
       "3     205737.916673\n",
       "4     180604.375975\n",
       "...             ...\n",
       "1454   83593.293234\n",
       "1455   99331.376538\n",
       "1456  199525.673436\n",
       "1457  127931.685251\n",
       "1458  242751.119814\n",
       "\n",
       "[1459 rows x 1 columns]"
      ]
     },
     "execution_count": 35,
     "metadata": {},
     "output_type": "execute_result"
    }
   ],
   "source": [
    "pd.DataFrame(y_linear_svr_predicted,columns=['SalePrice'])"
   ]
  },
  {
   "cell_type": "code",
   "execution_count": 36,
   "id": "3c31dd62-0627-4ac0-9769-29846c3634cd",
   "metadata": {},
   "outputs": [],
   "source": [
    "y_linear_svr_predicted_df=pd.DataFrame(test_set_actual['Id'])\n",
    "y_linear_svr_predicted_df['SalePrice']=y_linear_svr_predicted"
   ]
  },
  {
   "cell_type": "code",
   "execution_count": 37,
   "id": "b55552cc-a400-4824-a1fb-ea75b1fbe9d2",
   "metadata": {},
   "outputs": [],
   "source": [
    "y_linear_svr_predicted_df.to_csv('y_linear_svr_predicted.csv',index=False)"
   ]
  },
  {
   "cell_type": "code",
   "execution_count": null,
   "id": "27cc7517-d905-4172-99a7-73e4805ca791",
   "metadata": {},
   "outputs": [],
   "source": []
  },
  {
   "cell_type": "markdown",
   "id": "a9ea213a-b6b9-4888-b15f-618e9f035e6b",
   "metadata": {},
   "source": [
    "# SVR Model"
   ]
  },
  {
   "cell_type": "code",
   "execution_count": 38,
   "id": "0925d7cd-c561-421d-ad5b-876a0ab41a64",
   "metadata": {},
   "outputs": [],
   "source": [
    "svr_model=SVR()"
   ]
  },
  {
   "cell_type": "code",
   "execution_count": 39,
   "id": "dc16d54f-32ee-438d-863d-6ab154f46050",
   "metadata": {},
   "outputs": [
    {
     "data": {
      "text/plain": [
       "SVR()"
      ]
     },
     "execution_count": 39,
     "metadata": {},
     "output_type": "execute_result"
    }
   ],
   "source": [
    "svr_model.fit(X_train,y_train)"
   ]
  },
  {
   "cell_type": "code",
   "execution_count": 40,
   "id": "37f49fe9-44d8-409c-a020-544e5fe777f9",
   "metadata": {},
   "outputs": [],
   "source": [
    "y_svr_predicted=svr_model.predict(X_train)"
   ]
  },
  {
   "cell_type": "code",
   "execution_count": 41,
   "id": "2552a47b-98fe-4afd-aa1e-734c206a2795",
   "metadata": {},
   "outputs": [
    {
     "data": {
      "text/plain": [
       "55517.86505947624"
      ]
     },
     "execution_count": 41,
     "metadata": {},
     "output_type": "execute_result"
    }
   ],
   "source": [
    "mean_absolute_error(y_train,y_svr_predicted)"
   ]
  },
  {
   "cell_type": "code",
   "execution_count": 42,
   "id": "b6cf327c-a717-4357-bd5d-3e002daa7cfe",
   "metadata": {},
   "outputs": [],
   "source": [
    "y_svr_predicted=svr_model.predict(test_set)"
   ]
  },
  {
   "cell_type": "code",
   "execution_count": 43,
   "id": "70f49934-8e2a-487a-8e92-f638398d4c16",
   "metadata": {},
   "outputs": [
    {
     "data": {
      "text/html": [
       "<div>\n",
       "<style scoped>\n",
       "    .dataframe tbody tr th:only-of-type {\n",
       "        vertical-align: middle;\n",
       "    }\n",
       "\n",
       "    .dataframe tbody tr th {\n",
       "        vertical-align: top;\n",
       "    }\n",
       "\n",
       "    .dataframe thead th {\n",
       "        text-align: right;\n",
       "    }\n",
       "</style>\n",
       "<table border=\"1\" class=\"dataframe\">\n",
       "  <thead>\n",
       "    <tr style=\"text-align: right;\">\n",
       "      <th></th>\n",
       "      <th>SalePrice</th>\n",
       "    </tr>\n",
       "  </thead>\n",
       "  <tbody>\n",
       "    <tr>\n",
       "      <th>0</th>\n",
       "      <td>163010.582654</td>\n",
       "    </tr>\n",
       "    <tr>\n",
       "      <th>1</th>\n",
       "      <td>163029.098774</td>\n",
       "    </tr>\n",
       "    <tr>\n",
       "      <th>2</th>\n",
       "      <td>163041.139724</td>\n",
       "    </tr>\n",
       "    <tr>\n",
       "      <th>3</th>\n",
       "      <td>162993.066536</td>\n",
       "    </tr>\n",
       "    <tr>\n",
       "      <th>4</th>\n",
       "      <td>162937.501079</td>\n",
       "    </tr>\n",
       "    <tr>\n",
       "      <th>...</th>\n",
       "      <td>...</td>\n",
       "    </tr>\n",
       "    <tr>\n",
       "      <th>1454</th>\n",
       "      <td>162915.446949</td>\n",
       "    </tr>\n",
       "    <tr>\n",
       "      <th>1455</th>\n",
       "      <td>162915.419234</td>\n",
       "    </tr>\n",
       "    <tr>\n",
       "      <th>1456</th>\n",
       "      <td>163088.175268</td>\n",
       "    </tr>\n",
       "    <tr>\n",
       "      <th>1457</th>\n",
       "      <td>162995.211821</td>\n",
       "    </tr>\n",
       "    <tr>\n",
       "      <th>1458</th>\n",
       "      <td>162991.033536</td>\n",
       "    </tr>\n",
       "  </tbody>\n",
       "</table>\n",
       "<p>1459 rows × 1 columns</p>\n",
       "</div>"
      ],
      "text/plain": [
       "          SalePrice\n",
       "0     163010.582654\n",
       "1     163029.098774\n",
       "2     163041.139724\n",
       "3     162993.066536\n",
       "4     162937.501079\n",
       "...             ...\n",
       "1454  162915.446949\n",
       "1455  162915.419234\n",
       "1456  163088.175268\n",
       "1457  162995.211821\n",
       "1458  162991.033536\n",
       "\n",
       "[1459 rows x 1 columns]"
      ]
     },
     "execution_count": 43,
     "metadata": {},
     "output_type": "execute_result"
    }
   ],
   "source": [
    "pd.DataFrame(y_svr_predicted,columns=['SalePrice'])"
   ]
  },
  {
   "cell_type": "code",
   "execution_count": 44,
   "id": "db7cf5e1-3483-4343-b651-c3e226314867",
   "metadata": {},
   "outputs": [],
   "source": [
    "y_svr_predicted_df=pd.DataFrame(test_set_actual['Id'])\n",
    "y_svr_predicted_df['SalePrice']=y_svr_predicted"
   ]
  },
  {
   "cell_type": "code",
   "execution_count": 45,
   "id": "e0213b9a-e48a-43e5-8420-8e3156b02729",
   "metadata": {},
   "outputs": [],
   "source": [
    "y_svr_predicted_df.to_csv('y_svr_predicted.csv',index=False)"
   ]
  },
  {
   "cell_type": "code",
   "execution_count": null,
   "id": "3cb79db8-2e36-4b69-987a-036a29439339",
   "metadata": {},
   "outputs": [],
   "source": []
  },
  {
   "cell_type": "markdown",
   "id": "2f9a2dbf-526a-49be-9411-9e84b65aff48",
   "metadata": {},
   "source": [
    "# The End"
   ]
  },
  {
   "cell_type": "code",
   "execution_count": null,
   "id": "7ebdcc07-4820-4431-8b23-b0784d158d18",
   "metadata": {},
   "outputs": [],
   "source": []
  }
 ],
 "metadata": {
  "kernelspec": {
   "display_name": "Python 3 (ipykernel)",
   "language": "python",
   "name": "python3"
  },
  "language_info": {
   "codemirror_mode": {
    "name": "ipython",
    "version": 3
   },
   "file_extension": ".py",
   "mimetype": "text/x-python",
   "name": "python",
   "nbconvert_exporter": "python",
   "pygments_lexer": "ipython3",
   "version": "3.9.5"
  }
 },
 "nbformat": 4,
 "nbformat_minor": 5
}
